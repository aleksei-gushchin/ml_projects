{
 "cells": [
  {
   "cell_type": "markdown",
   "metadata": {},
   "source": [
    "<center><h1> Recommendation Systems </h1></center>"
   ]
  },
  {
   "cell_type": "markdown",
   "metadata": {},
   "source": [
    "# 1. Information"
   ]
  },
  {
   "cell_type": "markdown",
   "metadata": {},
   "source": [
    "https://nijianmo.github.io/amazon/index.html  \n",
    "This Dataset is an updated version of the Amazon review dataset released in 2014. As in the previous version, this dataset includes reviews (ratings, text, helpfulness votes), product metadata (descriptions, category information, price, brand, and image features), and links (also viewed/also bought graphs). \n",
    "**reviewerID** - ID of the reviewer, e.g. A2SUAM1J3GNN3B  \n",
    "**asin** - ID of the product, e.g. 0000013714  \n",
    "**reviewerName** - name of the reviewer  \n",
    "**vote** - helpful votes of the review  \n",
    "**style** - a disctionary of the product metadata, e.g., \"Format\" is \"Hardcover\"  \n",
    "**reviewText** - text of the review  \n",
    "**overall** - rating of the product  \n",
    "**summary** - summary of the review  \n",
    "**unixReviewTime** - time of the review (unix time)  \n",
    "**reviewTime** - time of the review (raw)  \n",
    "**image** - images that users post after they have received the product  "
   ]
  },
  {
   "cell_type": "markdown",
   "metadata": {},
   "source": [
    "# 2. Fetching Data:"
   ]
  },
  {
   "cell_type": "markdown",
   "metadata": {},
   "source": [
    "## 2.1 Import packages"
   ]
  },
  {
   "cell_type": "code",
   "execution_count": 1,
   "metadata": {},
   "outputs": [],
   "source": [
    "import pandas as pd\n",
    "import numpy as np\n",
    "import scipy.sparse as sparse\n",
    "import statsmodels.api as sm\n",
    "import scipy.stats as st\n",
    "import matplotlib.pyplot as plt\n",
    "import seaborn as sns\n",
    "import matplotlib.mlab as mlab\n",
    "%matplotlib inline\n",
    "import warnings\n",
    "import math\n",
    "pd.set_option('display.max_columns', 100)\n",
    "warnings.filterwarnings('ignore')\n"
   ]
  },
  {
   "cell_type": "code",
   "execution_count": 2,
   "metadata": {},
   "outputs": [],
   "source": [
    "modelRDY = False"
   ]
  },
  {
   "cell_type": "markdown",
   "metadata": {},
   "source": [
    "## 2.2 Import data"
   ]
  },
  {
   "cell_type": "code",
   "execution_count": 3,
   "metadata": {},
   "outputs": [],
   "source": [
    "data_orig=pd.read_json(\"Toys_and_Games_5.json\", lines=True)"
   ]
  },
  {
   "cell_type": "code",
   "execution_count": 4,
   "metadata": {},
   "outputs": [
    {
     "data": {
      "text/html": [
       "<div>\n",
       "<style scoped>\n",
       "    .dataframe tbody tr th:only-of-type {\n",
       "        vertical-align: middle;\n",
       "    }\n",
       "\n",
       "    .dataframe tbody tr th {\n",
       "        vertical-align: top;\n",
       "    }\n",
       "\n",
       "    .dataframe thead th {\n",
       "        text-align: right;\n",
       "    }\n",
       "</style>\n",
       "<table border=\"1\" class=\"dataframe\">\n",
       "  <thead>\n",
       "    <tr style=\"text-align: right;\">\n",
       "      <th></th>\n",
       "      <th>overall</th>\n",
       "      <th>vote</th>\n",
       "      <th>verified</th>\n",
       "      <th>reviewTime</th>\n",
       "      <th>reviewerID</th>\n",
       "      <th>asin</th>\n",
       "      <th>style</th>\n",
       "      <th>reviewerName</th>\n",
       "      <th>reviewText</th>\n",
       "      <th>summary</th>\n",
       "      <th>unixReviewTime</th>\n",
       "      <th>image</th>\n",
       "    </tr>\n",
       "  </thead>\n",
       "  <tbody>\n",
       "    <tr>\n",
       "      <td>0</td>\n",
       "      <td>5</td>\n",
       "      <td>3</td>\n",
       "      <td>True</td>\n",
       "      <td>10 6, 2013</td>\n",
       "      <td>A2LSCFZM2FBZK7</td>\n",
       "      <td>0486427706</td>\n",
       "      <td>{'Format:': ' Paperback'}</td>\n",
       "      <td>Ginger</td>\n",
       "      <td>The stained glass pages are pretty cool. And i...</td>\n",
       "      <td>Nice book</td>\n",
       "      <td>1381017600</td>\n",
       "      <td>NaN</td>\n",
       "    </tr>\n",
       "    <tr>\n",
       "      <td>1</td>\n",
       "      <td>5</td>\n",
       "      <td>9</td>\n",
       "      <td>True</td>\n",
       "      <td>08 9, 2013</td>\n",
       "      <td>A3IXP5VS847GE5</td>\n",
       "      <td>0486427706</td>\n",
       "      <td>{'Format:': ' Paperback'}</td>\n",
       "      <td>Dragonflies &amp;amp; Autumn Leaves</td>\n",
       "      <td>My 11 y.o. loved this...and so do I (you know ...</td>\n",
       "      <td>Great pictures</td>\n",
       "      <td>1376006400</td>\n",
       "      <td>NaN</td>\n",
       "    </tr>\n",
       "    <tr>\n",
       "      <td>2</td>\n",
       "      <td>5</td>\n",
       "      <td>NaN</td>\n",
       "      <td>True</td>\n",
       "      <td>04 5, 2016</td>\n",
       "      <td>A1274GG1EB2JLJ</td>\n",
       "      <td>0486427706</td>\n",
       "      <td>{'Format:': ' Paperback'}</td>\n",
       "      <td>barbara ann</td>\n",
       "      <td>The pictures are great , I've done one and gav...</td>\n",
       "      <td>The pictures are great, I've done one and gave...</td>\n",
       "      <td>1459814400</td>\n",
       "      <td>NaN</td>\n",
       "    </tr>\n",
       "    <tr>\n",
       "      <td>3</td>\n",
       "      <td>5</td>\n",
       "      <td>3</td>\n",
       "      <td>True</td>\n",
       "      <td>02 13, 2016</td>\n",
       "      <td>A30X5EGBYAZQQK</td>\n",
       "      <td>0486427706</td>\n",
       "      <td>{'Format:': ' Paperback'}</td>\n",
       "      <td>Samantha</td>\n",
       "      <td>I absolutely love this book! Its translucent p...</td>\n",
       "      <td>So beautiful!</td>\n",
       "      <td>1455321600</td>\n",
       "      <td>NaN</td>\n",
       "    </tr>\n",
       "    <tr>\n",
       "      <td>4</td>\n",
       "      <td>5</td>\n",
       "      <td>NaN</td>\n",
       "      <td>True</td>\n",
       "      <td>12 10, 2015</td>\n",
       "      <td>A3U6UNXLAUY6ZV</td>\n",
       "      <td>0486427706</td>\n",
       "      <td>{'Format:': ' Paperback'}</td>\n",
       "      <td>CP in Texas</td>\n",
       "      <td>I love it!</td>\n",
       "      <td>Five Stars</td>\n",
       "      <td>1449705600</td>\n",
       "      <td>NaN</td>\n",
       "    </tr>\n",
       "  </tbody>\n",
       "</table>\n",
       "</div>"
      ],
      "text/plain": [
       "   overall vote  verified   reviewTime      reviewerID        asin  \\\n",
       "0        5    3      True   10 6, 2013  A2LSCFZM2FBZK7  0486427706   \n",
       "1        5    9      True   08 9, 2013  A3IXP5VS847GE5  0486427706   \n",
       "2        5  NaN      True   04 5, 2016  A1274GG1EB2JLJ  0486427706   \n",
       "3        5    3      True  02 13, 2016  A30X5EGBYAZQQK  0486427706   \n",
       "4        5  NaN      True  12 10, 2015  A3U6UNXLAUY6ZV  0486427706   \n",
       "\n",
       "                       style                     reviewerName  \\\n",
       "0  {'Format:': ' Paperback'}                           Ginger   \n",
       "1  {'Format:': ' Paperback'}  Dragonflies &amp; Autumn Leaves   \n",
       "2  {'Format:': ' Paperback'}                      barbara ann   \n",
       "3  {'Format:': ' Paperback'}                         Samantha   \n",
       "4  {'Format:': ' Paperback'}                      CP in Texas   \n",
       "\n",
       "                                          reviewText  \\\n",
       "0  The stained glass pages are pretty cool. And i...   \n",
       "1  My 11 y.o. loved this...and so do I (you know ...   \n",
       "2  The pictures are great , I've done one and gav...   \n",
       "3  I absolutely love this book! Its translucent p...   \n",
       "4                                         I love it!   \n",
       "\n",
       "                                             summary  unixReviewTime image  \n",
       "0                                          Nice book      1381017600   NaN  \n",
       "1                                     Great pictures      1376006400   NaN  \n",
       "2  The pictures are great, I've done one and gave...      1459814400   NaN  \n",
       "3                                      So beautiful!      1455321600   NaN  \n",
       "4                                         Five Stars      1449705600   NaN  "
      ]
     },
     "execution_count": 4,
     "metadata": {},
     "output_type": "execute_result"
    }
   ],
   "source": [
    "data = data_orig.head(int(data_orig.shape[0]/10)).copy()\n",
    "data.head(5)"
   ]
  },
  {
   "cell_type": "markdown",
   "metadata": {},
   "source": [
    "Я здесь беру десятую часть датасета, поскольку при работе с полным объемом данных pandas постоянно ругается, что у него закончилась память."
   ]
  },
  {
   "cell_type": "code",
   "execution_count": 5,
   "metadata": {},
   "outputs": [
    {
     "data": {
      "text/plain": [
       "(182897, 12)"
      ]
     },
     "execution_count": 5,
     "metadata": {},
     "output_type": "execute_result"
    }
   ],
   "source": [
    "data.shape"
   ]
  },
  {
   "cell_type": "markdown",
   "metadata": {},
   "source": [
    "# 3 Data Cleaning"
   ]
  },
  {
   "cell_type": "code",
   "execution_count": 6,
   "metadata": {},
   "outputs": [
    {
     "name": "stdout",
     "output_type": "stream",
     "text": [
      "<class 'pandas.core.frame.DataFrame'>\n",
      "RangeIndex: 182897 entries, 0 to 182896\n",
      "Data columns (total 12 columns):\n",
      "overall           182897 non-null int64\n",
      "vote              23197 non-null object\n",
      "verified          182897 non-null bool\n",
      "reviewTime        182897 non-null object\n",
      "reviewerID        182897 non-null object\n",
      "asin              182897 non-null object\n",
      "style             77061 non-null object\n",
      "reviewerName      182880 non-null object\n",
      "reviewText        182841 non-null object\n",
      "summary           182872 non-null object\n",
      "unixReviewTime    182897 non-null int64\n",
      "image             2465 non-null object\n",
      "dtypes: bool(1), int64(2), object(9)\n",
      "memory usage: 15.5+ MB\n"
     ]
    }
   ],
   "source": [
    "data.info()"
   ]
  },
  {
   "cell_type": "code",
   "execution_count": 7,
   "metadata": {},
   "outputs": [
    {
     "data": {
      "text/plain": [
       "overall                0\n",
       "vote              159700\n",
       "verified               0\n",
       "reviewTime             0\n",
       "reviewerID             0\n",
       "asin                   0\n",
       "style             105836\n",
       "reviewerName          17\n",
       "reviewText            56\n",
       "summary               25\n",
       "unixReviewTime         0\n",
       "image             180432\n",
       "dtype: int64"
      ]
     },
     "execution_count": 7,
     "metadata": {},
     "output_type": "execute_result"
    }
   ],
   "source": [
    "data.isna().sum()"
   ]
  },
  {
   "cell_type": "markdown",
   "metadata": {},
   "source": [
    "Все необходимые признаки (**asin**, **reviewerID**, **overall**) пропусков не имеют."
   ]
  },
  {
   "cell_type": "markdown",
   "metadata": {},
   "source": [
    "## 3.1 Data Encoding"
   ]
  },
  {
   "cell_type": "code",
   "execution_count": 8,
   "metadata": {},
   "outputs": [],
   "source": [
    "from sklearn import preprocessing, metrics"
   ]
  },
  {
   "cell_type": "code",
   "execution_count": 9,
   "metadata": {},
   "outputs": [],
   "source": [
    "data = data.sort_values(by=['unixReviewTime'])\n",
    "le = preprocessing.LabelEncoder()"
   ]
  },
  {
   "cell_type": "markdown",
   "metadata": {},
   "source": [
    "Сортирую датасет по времени, чтобы соблюсти временную зависимость при построении модели."
   ]
  },
  {
   "cell_type": "code",
   "execution_count": 10,
   "metadata": {},
   "outputs": [],
   "source": [
    "data['reviewerID'] = le.fit_transform(data['reviewerID'])"
   ]
  },
  {
   "cell_type": "code",
   "execution_count": 11,
   "metadata": {},
   "outputs": [],
   "source": [
    "data['asin'] = le.fit_transform(data['asin'])"
   ]
  },
  {
   "cell_type": "code",
   "execution_count": 12,
   "metadata": {},
   "outputs": [],
   "source": [
    "data.reset_index(inplace=True, drop=True)"
   ]
  },
  {
   "cell_type": "code",
   "execution_count": 13,
   "metadata": {},
   "outputs": [
    {
     "data": {
      "text/html": [
       "<div>\n",
       "<style scoped>\n",
       "    .dataframe tbody tr th:only-of-type {\n",
       "        vertical-align: middle;\n",
       "    }\n",
       "\n",
       "    .dataframe tbody tr th {\n",
       "        vertical-align: top;\n",
       "    }\n",
       "\n",
       "    .dataframe thead th {\n",
       "        text-align: right;\n",
       "    }\n",
       "</style>\n",
       "<table border=\"1\" class=\"dataframe\">\n",
       "  <thead>\n",
       "    <tr style=\"text-align: right;\">\n",
       "      <th></th>\n",
       "      <th>overall</th>\n",
       "      <th>vote</th>\n",
       "      <th>verified</th>\n",
       "      <th>reviewTime</th>\n",
       "      <th>reviewerID</th>\n",
       "      <th>asin</th>\n",
       "      <th>style</th>\n",
       "      <th>reviewerName</th>\n",
       "      <th>reviewText</th>\n",
       "      <th>summary</th>\n",
       "      <th>unixReviewTime</th>\n",
       "      <th>image</th>\n",
       "    </tr>\n",
       "  </thead>\n",
       "  <tbody>\n",
       "    <tr>\n",
       "      <td>0</td>\n",
       "      <td>5</td>\n",
       "      <td>53</td>\n",
       "      <td>False</td>\n",
       "      <td>10 6, 1999</td>\n",
       "      <td>9936</td>\n",
       "      <td>68</td>\n",
       "      <td>{'Format:': ' Toy'}</td>\n",
       "      <td>Michael J Woznicki</td>\n",
       "      <td>Ready for Hearts to meet Spades and Whist? Wel...</td>\n",
       "      <td>The game was a great time for everyone.</td>\n",
       "      <td>939168000</td>\n",
       "      <td>NaN</td>\n",
       "    </tr>\n",
       "    <tr>\n",
       "      <td>1</td>\n",
       "      <td>5</td>\n",
       "      <td>54</td>\n",
       "      <td>False</td>\n",
       "      <td>03 8, 2000</td>\n",
       "      <td>86708</td>\n",
       "      <td>379</td>\n",
       "      <td>NaN</td>\n",
       "      <td>Soozie4Him</td>\n",
       "      <td>How long has it been since *you* had a toy?  Y...</td>\n",
       "      <td>Lots of fun for grown-ups too!</td>\n",
       "      <td>952473600</td>\n",
       "      <td>NaN</td>\n",
       "    </tr>\n",
       "    <tr>\n",
       "      <td>2</td>\n",
       "      <td>3</td>\n",
       "      <td>9</td>\n",
       "      <td>False</td>\n",
       "      <td>05 2, 2000</td>\n",
       "      <td>56688</td>\n",
       "      <td>362</td>\n",
       "      <td>NaN</td>\n",
       "      <td>A. Macphee</td>\n",
       "      <td>When this first came out at a price of $20(or ...</td>\n",
       "      <td>Getting better with the POTF figures</td>\n",
       "      <td>957225600</td>\n",
       "      <td>NaN</td>\n",
       "    </tr>\n",
       "    <tr>\n",
       "      <td>3</td>\n",
       "      <td>5</td>\n",
       "      <td>8</td>\n",
       "      <td>False</td>\n",
       "      <td>07 28, 2000</td>\n",
       "      <td>34278</td>\n",
       "      <td>677</td>\n",
       "      <td>NaN</td>\n",
       "      <td>Zack Davisson</td>\n",
       "      <td>This was one of my favorite games when I was y...</td>\n",
       "      <td>Have fun - Learn French!</td>\n",
       "      <td>964742400</td>\n",
       "      <td>NaN</td>\n",
       "    </tr>\n",
       "    <tr>\n",
       "      <td>4</td>\n",
       "      <td>5</td>\n",
       "      <td>NaN</td>\n",
       "      <td>False</td>\n",
       "      <td>07 30, 2000</td>\n",
       "      <td>34655</td>\n",
       "      <td>394</td>\n",
       "      <td>NaN</td>\n",
       "      <td>CMC</td>\n",
       "      <td>You will love Tetris DX! I had the Tetris Gold...</td>\n",
       "      <td>Fast, furious and fun!</td>\n",
       "      <td>964915200</td>\n",
       "      <td>NaN</td>\n",
       "    </tr>\n",
       "  </tbody>\n",
       "</table>\n",
       "</div>"
      ],
      "text/plain": [
       "   overall vote  verified   reviewTime  reviewerID  asin                style  \\\n",
       "0        5   53     False   10 6, 1999        9936    68  {'Format:': ' Toy'}   \n",
       "1        5   54     False   03 8, 2000       86708   379                  NaN   \n",
       "2        3    9     False   05 2, 2000       56688   362                  NaN   \n",
       "3        5    8     False  07 28, 2000       34278   677                  NaN   \n",
       "4        5  NaN     False  07 30, 2000       34655   394                  NaN   \n",
       "\n",
       "         reviewerName                                         reviewText  \\\n",
       "0  Michael J Woznicki  Ready for Hearts to meet Spades and Whist? Wel...   \n",
       "1          Soozie4Him  How long has it been since *you* had a toy?  Y...   \n",
       "2          A. Macphee  When this first came out at a price of $20(or ...   \n",
       "3       Zack Davisson  This was one of my favorite games when I was y...   \n",
       "4                 CMC  You will love Tetris DX! I had the Tetris Gold...   \n",
       "\n",
       "                                   summary  unixReviewTime image  \n",
       "0  The game was a great time for everyone.       939168000   NaN  \n",
       "1           Lots of fun for grown-ups too!       952473600   NaN  \n",
       "2     Getting better with the POTF figures       957225600   NaN  \n",
       "3                 Have fun - Learn French!       964742400   NaN  \n",
       "4                   Fast, furious and fun!       964915200   NaN  "
      ]
     },
     "execution_count": 13,
     "metadata": {},
     "output_type": "execute_result"
    }
   ],
   "source": [
    "data.head()"
   ]
  },
  {
   "cell_type": "markdown",
   "metadata": {},
   "source": [
    "# 4. EDA"
   ]
  },
  {
   "cell_type": "code",
   "execution_count": 14,
   "metadata": {},
   "outputs": [
    {
     "data": {
      "text/html": [
       "<div>\n",
       "<style scoped>\n",
       "    .dataframe tbody tr th:only-of-type {\n",
       "        vertical-align: middle;\n",
       "    }\n",
       "\n",
       "    .dataframe tbody tr th {\n",
       "        vertical-align: top;\n",
       "    }\n",
       "\n",
       "    .dataframe thead th {\n",
       "        text-align: right;\n",
       "    }\n",
       "</style>\n",
       "<table border=\"1\" class=\"dataframe\">\n",
       "  <thead>\n",
       "    <tr style=\"text-align: right;\">\n",
       "      <th></th>\n",
       "      <th>overall</th>\n",
       "      <th>reviewerID</th>\n",
       "      <th>asin</th>\n",
       "      <th>unixReviewTime</th>\n",
       "    </tr>\n",
       "  </thead>\n",
       "  <tbody>\n",
       "    <tr>\n",
       "      <td>count</td>\n",
       "      <td>182897.000000</td>\n",
       "      <td>182897.000000</td>\n",
       "      <td>182897.000000</td>\n",
       "      <td>1.828970e+05</td>\n",
       "    </tr>\n",
       "    <tr>\n",
       "      <td>mean</td>\n",
       "      <td>4.444802</td>\n",
       "      <td>49740.878959</td>\n",
       "      <td>3105.256778</td>\n",
       "      <td>1.406189e+09</td>\n",
       "    </tr>\n",
       "    <tr>\n",
       "      <td>std</td>\n",
       "      <td>1.018122</td>\n",
       "      <td>28629.940451</td>\n",
       "      <td>1959.910614</td>\n",
       "      <td>8.165187e+07</td>\n",
       "    </tr>\n",
       "    <tr>\n",
       "      <td>min</td>\n",
       "      <td>1.000000</td>\n",
       "      <td>0.000000</td>\n",
       "      <td>0.000000</td>\n",
       "      <td>9.391680e+08</td>\n",
       "    </tr>\n",
       "    <tr>\n",
       "      <td>25%</td>\n",
       "      <td>4.000000</td>\n",
       "      <td>24768.000000</td>\n",
       "      <td>1178.000000</td>\n",
       "      <td>1.377216e+09</td>\n",
       "    </tr>\n",
       "    <tr>\n",
       "      <td>50%</td>\n",
       "      <td>5.000000</td>\n",
       "      <td>49882.000000</td>\n",
       "      <td>3196.000000</td>\n",
       "      <td>1.421885e+09</td>\n",
       "    </tr>\n",
       "    <tr>\n",
       "      <td>75%</td>\n",
       "      <td>5.000000</td>\n",
       "      <td>74564.000000</td>\n",
       "      <td>4816.000000</td>\n",
       "      <td>1.457395e+09</td>\n",
       "    </tr>\n",
       "    <tr>\n",
       "      <td>max</td>\n",
       "      <td>5.000000</td>\n",
       "      <td>99268.000000</td>\n",
       "      <td>6659.000000</td>\n",
       "      <td>1.526602e+09</td>\n",
       "    </tr>\n",
       "  </tbody>\n",
       "</table>\n",
       "</div>"
      ],
      "text/plain": [
       "             overall     reviewerID           asin  unixReviewTime\n",
       "count  182897.000000  182897.000000  182897.000000    1.828970e+05\n",
       "mean        4.444802   49740.878959    3105.256778    1.406189e+09\n",
       "std         1.018122   28629.940451    1959.910614    8.165187e+07\n",
       "min         1.000000       0.000000       0.000000    9.391680e+08\n",
       "25%         4.000000   24768.000000    1178.000000    1.377216e+09\n",
       "50%         5.000000   49882.000000    3196.000000    1.421885e+09\n",
       "75%         5.000000   74564.000000    4816.000000    1.457395e+09\n",
       "max         5.000000   99268.000000    6659.000000    1.526602e+09"
      ]
     },
     "execution_count": 14,
     "metadata": {},
     "output_type": "execute_result"
    }
   ],
   "source": [
    "data.describe()"
   ]
  },
  {
   "cell_type": "code",
   "execution_count": 15,
   "metadata": {},
   "outputs": [
    {
     "data": {
      "text/plain": [
       "<matplotlib.axes._subplots.AxesSubplot at 0xbd129c8>"
      ]
     },
     "execution_count": 15,
     "metadata": {},
     "output_type": "execute_result"
    },
    {
     "data": {
      "image/png": "[encoded data removed]",
      "text/plain": [
       "<Figure size 432x288 with 1 Axes>"
      ]
     },
     "metadata": {
      "needs_background": "light"
     },
     "output_type": "display_data"
    }
   ],
   "source": [
    "data.overall.hist()"
   ]
  },
  {
   "cell_type": "markdown",
   "metadata": {},
   "source": [
    "# 5. Machine Learning"
   ]
  },
  {
   "cell_type": "code",
   "execution_count": 16,
   "metadata": {},
   "outputs": [],
   "source": [
    "import pickle\n",
    "from lightfm import LightFM\n",
    "from lightfm.evaluation import precision_at_k, recall_at_k, auc_score"
   ]
  },
  {
   "cell_type": "markdown",
   "metadata": {},
   "source": [
    "## 5.1 Data preparation "
   ]
  },
  {
   "cell_type": "code",
   "execution_count": 17,
   "metadata": {},
   "outputs": [],
   "source": [
    "customers = list(np.sort(data.reviewerID.unique())) \n",
    "products = list(data.asin.unique()) \n",
    "overall = list(data.overall.astype(np.int64))\n",
    "\n",
    "rows = data.reviewerID.astype('category').cat.codes \n",
    "cols = data.asin.astype('category').cat.codes "
   ]
  },
  {
   "cell_type": "code",
   "execution_count": 18,
   "metadata": {},
   "outputs": [],
   "source": [
    "user_item = data.groupby(['reviewerID', 'asin'])['overall']"
   ]
  },
  {
   "cell_type": "code",
   "execution_count": 19,
   "metadata": {},
   "outputs": [],
   "source": [
    "purchases_matrix = user_item.mean().unstack().fillna(0)"
   ]
  },
  {
   "cell_type": "code",
   "execution_count": 20,
   "metadata": {},
   "outputs": [],
   "source": [
    "purchases_sparse = sparse.coo_matrix(purchases_matrix).tocsr()"
   ]
  },
  {
   "cell_type": "code",
   "execution_count": 21,
   "metadata": {},
   "outputs": [],
   "source": [
    "# Нормирую оценки по каждому пользователю\n",
    "for j in range(purchases_sparse.shape[0]):\n",
    "    usr_mean_score = purchases_sparse[j,(purchases_sparse[j,:].nonzero())[1]].mean()\n",
    "    for i in (purchases_sparse[j,:].nonzero())[1]:\n",
    "        purchases_sparse[j,i] = (purchases_sparse[j,i])/(usr_mean_score)"
   ]
  },
  {
   "cell_type": "code",
   "execution_count": 22,
   "metadata": {},
   "outputs": [
    {
     "name": "stdout",
     "output_type": "stream",
     "text": [
      "6660 99269 182897\n"
     ]
    }
   ],
   "source": [
    "print(len(products), len(customers), len(overall))"
   ]
  },
  {
   "cell_type": "code",
   "execution_count": 23,
   "metadata": {},
   "outputs": [
    {
     "name": "stdout",
     "output_type": "stream",
     "text": [
      "Разрежённость матрицы   99.97251484931425\n"
     ]
    }
   ],
   "source": [
    "matrix_size = purchases_sparse.shape[0]*purchases_sparse.shape[1] \n",
    "num_purchases = len(purchases_sparse.nonzero()[0]) \n",
    "sparsity = 100*(1 - (num_purchases/matrix_size))\n",
    "print('Разрежённость матрицы  ', sparsity)"
   ]
  },
  {
   "cell_type": "code",
   "execution_count": 24,
   "metadata": {},
   "outputs": [
    {
     "data": {
      "text/plain": [
       "(99269, 6660)"
      ]
     },
     "execution_count": 24,
     "metadata": {},
     "output_type": "execute_result"
    }
   ],
   "source": [
    "purchases_sparse.shape"
   ]
  },
  {
   "cell_type": "code",
   "execution_count": 25,
   "metadata": {},
   "outputs": [
    {
     "data": {
      "text/plain": [
       "False"
      ]
     },
     "execution_count": 25,
     "metadata": {},
     "output_type": "execute_result"
    }
   ],
   "source": [
    "np.isnan(np.sum(purchases_sparse))"
   ]
  },
  {
   "cell_type": "markdown",
   "metadata": {},
   "source": [
    "Интересно, что некоторые пользователи голосовали за один и тот же товар по несколько раз. У Amozon в backend-е похоже была дырка!"
   ]
  },
  {
   "cell_type": "markdown",
   "metadata": {},
   "source": [
    "## 5.2 Train test Split"
   ]
  },
  {
   "cell_type": "code",
   "execution_count": 26,
   "metadata": {},
   "outputs": [],
   "source": [
    "def make_train(ratings, pct_test = 0.2):\n",
    "    training_set = ratings.copy() \n",
    "    nonzero_inds = training_set.nonzero() \n",
    "    nonzero_pairs = list(zip(nonzero_inds[0], nonzero_inds[1])) \n",
    "    num_samples = int(np.ceil(pct_test*len(nonzero_pairs))) \n",
    "    samples = nonzero_pairs[-num_samples::]\n",
    "    user_inds = [index[0] for index in samples] \n",
    "    item_inds = [index[1] for index in samples] \n",
    "    training_set[user_inds, item_inds] = 0 \n",
    "    \n",
    "    test_set = ratings.copy()\n",
    "    num_samples = int(np.ceil((1-pct_test)*len(nonzero_pairs))) \n",
    "    samples = nonzero_pairs[0:num_samples-1]\n",
    "    user_inds = [index[0] for index in samples] \n",
    "    item_inds = [index[1] for index in samples] \n",
    "    test_set[user_inds, item_inds] = 0 \n",
    "    return training_set, test_set, list(set(user_inds)) "
   ]
  },
  {
   "cell_type": "code",
   "execution_count": 27,
   "metadata": {},
   "outputs": [],
   "source": [
    "product_train, product_test, product_users_altered = make_train(purchases_sparse, pct_test = 0.2)"
   ]
  },
  {
   "cell_type": "markdown",
   "metadata": {},
   "source": [
    "## 5.3 LightFM Model"
   ]
  },
  {
   "cell_type": "code",
   "execution_count": 28,
   "metadata": {},
   "outputs": [],
   "source": [
    "model = LightFM(\n",
    "                loss='warp-kos',\n",
    "                k=10,\n",
    "                random_state = 42\n",
    "                )"
   ]
  },
  {
   "cell_type": "code",
   "execution_count": 29,
   "metadata": {},
   "outputs": [
    {
     "name": "stdout",
     "output_type": "stream",
     "text": [
      "AUC: train 1.00, test 1.00.\n"
     ]
    }
   ],
   "source": [
    "if (modelRDY):\n",
    "    with open('saved_model','rb') as f:\n",
    "            saved_model=pickle.load(f)\n",
    "            model=saved_model['model']\n",
    "else:    \n",
    "    model.fit(product_train,\n",
    "              epochs     =100,\n",
    "              num_threads=4\n",
    "              )\n",
    "    \n",
    "    with open('saved_model','wb') as f:\n",
    "                saved_model={'model':model}\n",
    "                pickle.dump(saved_model, f)\n",
    "        \n",
    "    \n",
    "train_auc = auc_score(model, product_train, num_threads=4).mean()\n",
    "test_auc = auc_score(model, product_test, num_threads=4).mean()\n",
    "\n",
    "print('AUC: train %.2f, test %.2f.' % (train_auc, test_auc))\n"
   ]
  },
  {
   "cell_type": "code",
   "execution_count": 38,
   "metadata": {},
   "outputs": [
    {
     "name": "stdout",
     "output_type": "stream",
     "text": [
      "RMSE = 1.37\n"
     ]
    }
   ],
   "source": [
    "# Расчет RMSE\n",
    "model_pred_scores = model.predict(product_test.nonzero()[0], product_test.nonzero()[1])\n",
    "pred_scores = pd.Series(model_pred_scores).apply(lambda x: 0 if x<0 else x)\n",
    "test_scores = product_test.A[product_test.nonzero()[0], product_test.nonzero()[1]]\n",
    "rmse =  np.sqrt(np.mean(((test_scores-pred_scores)**2)))\n",
    "print('RMSE = %.2f' % (rmse))"
   ]
  },
  {
   "cell_type": "markdown",
   "metadata": {},
   "source": [
    "# 6. Conclusion"
   ]
  },
  {
   "cell_type": "code",
   "execution_count": 41,
   "metadata": {},
   "outputs": [
    {
     "name": "stdout",
     "output_type": "stream",
     "text": [
      "10\n"
     ]
    },
    {
     "data": {
      "text/plain": [
       "10     Perhaps the best fast-paced game ever invented!\n",
       "154                       Easy on and equally easy off\n",
       "662      Counting and motor skills for young children.\n",
       "946                              Better for older kids\n",
       "126     Puzzles are FUN! And this is a quality puzzle!\n",
       "Name: summary, dtype: object"
      ]
     },
     "execution_count": 41,
     "metadata": {},
     "output_type": "execute_result"
    }
   ],
   "source": [
    "from sklearn.metrics.pairwise import cosine_similarity\n",
    "\n",
    "def display_item_to_items_recommendations(model, item_id):\n",
    "\n",
    "    products_arr = np.array(products) \n",
    "    \n",
    "    item_id = np.where(products_arr == item_id)[0][0]\n",
    "    print(item_id)\n",
    "  \n",
    "    return data['summary'][cosine_similarity( \n",
    "            model.item_embeddings)[item_id].argsort()[-5:][::-1]]\n",
    "\n",
    "display_item_to_items_recommendations(model, products[10])"
   ]
  },
  {
   "cell_type": "markdown",
   "metadata": {},
   "source": [
    "SVD и LightFM работают. Возможно следует дополнительно подумать над решением проблемы нормировки отрицательных оценок, когда в исходной выборке таких оценок не было. "
   ]
  },
  {
   "cell_type": "code",
   "execution_count": null,
   "metadata": {},
   "outputs": [],
   "source": []
  }
 ],
 "metadata": {
  "kernelspec": {
   "display_name": "Python 3",
   "language": "python",
   "name": "python3"
  },
  "language_info": {
   "codemirror_mode": {
    "name": "ipython",
    "version": 3
   },
   "file_extension": ".py",
   "mimetype": "text/x-python",
   "name": "python",
   "nbconvert_exporter": "python",
   "pygments_lexer": "ipython3",
   "version": "3.7.4"
  }
 },
 "nbformat": 4,
 "nbformat_minor": 4
}
