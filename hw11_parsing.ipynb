{
 "cells": [
  {
   "cell_type": "markdown",
   "metadata": {},
   "source": [
    "<center><h1> Parsing </h1></center>"
   ]
  },
  {
   "cell_type": "markdown",
   "metadata": {},
   "source": [
    "# 1. Import packages"
   ]
  },
  {
   "cell_type": "code",
   "execution_count": 1,
   "metadata": {},
   "outputs": [],
   "source": [
    "import requests\n",
    "import re\n",
    "from bs4 import BeautifulSoup\n",
    "from datetime import datetime, timedelta\n",
    "import pandas as pd\n",
    "import time\n",
    "import sys\n",
    "from stem import Signal\n",
    "from stem.control import Controller\n",
    "\n",
    "from tqdm import tqdm_notebook\n",
    "from fake_useragent import UserAgent"
   ]
  },
  {
   "cell_type": "markdown",
   "metadata": {},
   "source": [
    "# 2. Parsing functions"
   ]
  },
  {
   "cell_type": "markdown",
   "metadata": {},
   "source": [
    "## 2.1 Get link functions"
   ]
  },
  {
   "cell_type": "markdown",
   "metadata": {},
   "source": [
    "Буду парсить сайт Эхо Москвы"
   ]
  },
  {
   "cell_type": "code",
   "execution_count": 2,
   "metadata": {},
   "outputs": [],
   "source": [
    "main_link = 'https://echo.msk.ru'\n",
    "news_link = main_link+'/news'"
   ]
  },
  {
   "cell_type": "code",
   "execution_count": 3,
   "metadata": {},
   "outputs": [],
   "source": [
    "def get_soup(page_link):\n",
    "    response = requests.get(page_link, headers={'User-Agent': UserAgent().chrome})\n",
    "    soup = BeautifulSoup(response.content, \"html.parser\")\n",
    "    return soup"
   ]
  },
  {
   "cell_type": "code",
   "execution_count": 4,
   "metadata": {},
   "outputs": [],
   "source": [
    "def get_news_links(page_number):\n",
    "    cur_day=(datetime.today() - timedelta(days=page_number))\n",
    "    main_link = 'https://echo.msk.ru'\n",
    "    news_link = main_link+'/news'\n",
    "    page_link =news_link+'/'+str(cur_day.year)+'/'+ str(cur_day.month)+'/'+ str(cur_day.day)+'.html'\n",
    "    soup = get_soup(page_link)\n",
    "    news_links = soup.findAll(\"div\", attrs={'class':'preview newsblock iblock'})\n",
    "    news_links = [news_link.find('a', attrs={'class':'view'})['href'] for news_link in news_links]\n",
    "    news_links = list(set(news_links))\n",
    "    return news_links"
   ]
  },
  {
   "cell_type": "code",
   "execution_count": 5,
   "metadata": {},
   "outputs": [],
   "source": [
    "echo_links = get_news_links(1)"
   ]
  },
  {
   "cell_type": "code",
   "execution_count": 6,
   "metadata": {},
   "outputs": [
    {
     "name": "stdout",
     "output_type": "stream",
     "text": [
      "https://echo.msk.ru/news/2646337-echo.html\n"
     ]
    }
   ],
   "source": [
    "print(main_link + echo_links[0])"
   ]
  },
  {
   "cell_type": "markdown",
   "metadata": {},
   "source": [
    "## 2.2 Grab data functions"
   ]
  },
  {
   "cell_type": "code",
   "execution_count": 7,
   "metadata": {},
   "outputs": [],
   "source": [
    "def _get_title(news_soup):\n",
    "    title = news_soup.find(\"h1\")    \n",
    "    title = None if not title else title.text.strip()\n",
    "    return title\n",
    "\n",
    "def _get_views_comments_num(news_soup):\n",
    "    comments = news_soup.find(\"a\", attrs={'class':'comm'})\n",
    "    comments = comments.find('span', attrs={'class':'count'})\n",
    "    comments = None if not comments else int(comments.text)\n",
    "    views = news_soup.find(\"a\", attrs={'class':'view'})\n",
    "    views = views.find('span', attrs={'class':'count'})\n",
    "    views = None if not views else int(views.text)\n",
    "    return (views, comments)\n",
    "\n",
    "def _get_publication_date_and_time(news_soup):\n",
    "    date = news_soup.find(\"div\", attrs={'class':'date'})\n",
    "    date = date.find(\"span\", class_='')\n",
    "    date = None if not date else date.text.strip()\n",
    "    \n",
    "    cur_time = news_soup.find(\"div\", attrs={'class':'date'})\n",
    "    cur_time = cur_time.find(\"strong\", attrs={'class':'red'})\n",
    "    cur_time = None if not cur_time else cur_time.text.strip()\n",
    "    return (date+' '+cur_time)\n",
    "\n",
    "def _get_main_text(news_soup):\n",
    "    text_main = news_soup.find(\n",
    "        'span', \n",
    "        attrs={'class':'_ga1_on_ include-relap-widget contextualizable'}\n",
    "    )\n",
    "    text_main = text_main.findAll('p')\n",
    "    if not text_main:\n",
    "        return None\n",
    "    \n",
    "    text_main = [paragraph.text.strip() for paragraph in text_main]\n",
    "    text_main = \" \".join(text_main)\n",
    "    return text_main\n",
    "\n",
    "def get_news_page_info(news_link):\n",
    "    news_soup = get_soup(main_link + news_link)\n",
    "    \n",
    "    views, comments = _get_views_comments_num(news_soup)\n",
    "    title = _get_title(news_soup)\n",
    "    publication_date = _get_publication_date_and_time(news_soup)\n",
    "    main_text = _get_main_text(news_soup)\n",
    "    \n",
    "    info = {\n",
    "        'views':views,\n",
    "        'comments':comments,\n",
    "        'title':title,\n",
    "        'publication_date':publication_date,\n",
    "        'main_text':main_text\n",
    "    }\n",
    "    \n",
    "    return info"
   ]
  },
  {
   "cell_type": "code",
   "execution_count": 8,
   "metadata": {},
   "outputs": [
    {
     "data": {
      "text/plain": [
       "195"
      ]
     },
     "execution_count": 8,
     "metadata": {},
     "output_type": "execute_result"
    }
   ],
   "source": [
    "len(echo_links)"
   ]
  },
  {
   "cell_type": "code",
   "execution_count": 9,
   "metadata": {},
   "outputs": [
    {
     "data": {
      "application/vnd.jupyter.widget-view+json": {
       "model_id": "d250aa6c39a946f09c41aaa1e6a7811d",
       "version_major": 2,
       "version_minor": 0
      },
      "text/plain": [
       "HBox(children=(IntProgress(value=0, max=195), HTML(value='')))"
      ]
     },
     "metadata": {},
     "output_type": "display_data"
    },
    {
     "name": "stdout",
     "output_type": "stream",
     "text": [
      "\n"
     ]
    }
   ],
   "source": [
    "news_dataset = pd.DataFrame(columns=['views', 'comments', 'title', 'publication_date', 'main_text'])\n",
    "\n",
    "for news_link in tqdm_notebook(echo_links):\n",
    "    news_dataset = news_dataset.append(get_news_page_info(news_link), ignore_index=True)\n",
    "    time.sleep(0.3)"
   ]
  },
  {
   "cell_type": "code",
   "execution_count": 10,
   "metadata": {},
   "outputs": [
    {
     "data": {
      "text/html": [
       "<div>\n",
       "<style scoped>\n",
       "    .dataframe tbody tr th:only-of-type {\n",
       "        vertical-align: middle;\n",
       "    }\n",
       "\n",
       "    .dataframe tbody tr th {\n",
       "        vertical-align: top;\n",
       "    }\n",
       "\n",
       "    .dataframe thead th {\n",
       "        text-align: right;\n",
       "    }\n",
       "</style>\n",
       "<table border=\"1\" class=\"dataframe\">\n",
       "  <thead>\n",
       "    <tr style=\"text-align: right;\">\n",
       "      <th></th>\n",
       "      <th>views</th>\n",
       "      <th>comments</th>\n",
       "      <th>title</th>\n",
       "      <th>publication_date</th>\n",
       "      <th>main_text</th>\n",
       "    </tr>\n",
       "  </thead>\n",
       "  <tbody>\n",
       "    <tr>\n",
       "      <td>0</td>\n",
       "      <td>1004</td>\n",
       "      <td>11</td>\n",
       "      <td>Порошенко назвал записи его разговоров с полит...</td>\n",
       "      <td>20 мая 2020 22:06</td>\n",
       "      <td>Экс-президент Украины Петр Порошенко назвал за...</td>\n",
       "    </tr>\n",
       "    <tr>\n",
       "      <td>1</td>\n",
       "      <td>506</td>\n",
       "      <td>1</td>\n",
       "      <td>Различные меры по борьбе с коронавирусом с сег...</td>\n",
       "      <td>20 мая 2020 06:04</td>\n",
       "      <td>Если в одних ограничения смягчают, то в других...</td>\n",
       "    </tr>\n",
       "    <tr>\n",
       "      <td>2</td>\n",
       "      <td>608</td>\n",
       "      <td>2</td>\n",
       "      <td>У сети алкомаркетов «Красное и белое» могут от...</td>\n",
       "      <td>20 мая 2020 22:05</td>\n",
       "      <td>Причиной стали нарушения требований профилакти...</td>\n",
       "    </tr>\n",
       "    <tr>\n",
       "      <td>3</td>\n",
       "      <td>1228</td>\n",
       "      <td>9</td>\n",
       "      <td>Командующий антиправительственными силами в Ли...</td>\n",
       "      <td>20 мая 2020 10:34</td>\n",
       "      <td>Это сделано по случаю  мусульманского праздник...</td>\n",
       "    </tr>\n",
       "    <tr>\n",
       "      <td>4</td>\n",
       "      <td>3442</td>\n",
       "      <td>42</td>\n",
       "      <td>Чехия официально отказалась передавать России ...</td>\n",
       "      <td>20 мая 2020 09:32</td>\n",
       "      <td>Ранее он был демонтирован в   Праге.  Как пояс...</td>\n",
       "    </tr>\n",
       "    <tr>\n",
       "      <td>5</td>\n",
       "      <td>1190</td>\n",
       "      <td>8</td>\n",
       "      <td>В Карелии врачам запретили публично комментиро...</td>\n",
       "      <td>20 мая 2020 17:04</td>\n",
       "      <td>Соответствующий приказ регионального Минздрава...</td>\n",
       "    </tr>\n",
       "    <tr>\n",
       "      <td>6</td>\n",
       "      <td>1780</td>\n",
       "      <td>15</td>\n",
       "      <td>Палестина выходит из всех соглашений с Израиле...</td>\n",
       "      <td>20 мая 2020 11:32</td>\n",
       "      <td>Глава  автономии Махмуд Аббас  обвинил Иерусал...</td>\n",
       "    </tr>\n",
       "    <tr>\n",
       "      <td>7</td>\n",
       "      <td>2085</td>\n",
       "      <td>15</td>\n",
       "      <td>Пользователи приложения для контроля за больны...</td>\n",
       "      <td>20 мая 2020 22:02</td>\n",
       "      <td>Такие данные привели столичные власти. Речь ид...</td>\n",
       "    </tr>\n",
       "    <tr>\n",
       "      <td>8</td>\n",
       "      <td>3945</td>\n",
       "      <td>12</td>\n",
       "      <td>Газопровод «Северный поток» не попадет под огр...</td>\n",
       "      <td>20 мая 2020 21:05</td>\n",
       "      <td>Такое постановление приняло Федеральное сетево...</td>\n",
       "    </tr>\n",
       "    <tr>\n",
       "      <td>9</td>\n",
       "      <td>3240</td>\n",
       "      <td>10</td>\n",
       "      <td>В результате стрельбы на юго-востоке Москвы ра...</td>\n",
       "      <td>20 мая 2020 20:35</td>\n",
       "      <td>В результате стрельбы на юго-востоке Москвы ра...</td>\n",
       "    </tr>\n",
       "  </tbody>\n",
       "</table>\n",
       "</div>"
      ],
      "text/plain": [
       "  views comments                                              title  \\\n",
       "0  1004       11  Порошенко назвал записи его разговоров с полит...   \n",
       "1   506        1  Различные меры по борьбе с коронавирусом с сег...   \n",
       "2   608        2  У сети алкомаркетов «Красное и белое» могут от...   \n",
       "3  1228        9  Командующий антиправительственными силами в Ли...   \n",
       "4  3442       42  Чехия официально отказалась передавать России ...   \n",
       "5  1190        8  В Карелии врачам запретили публично комментиро...   \n",
       "6  1780       15  Палестина выходит из всех соглашений с Израиле...   \n",
       "7  2085       15  Пользователи приложения для контроля за больны...   \n",
       "8  3945       12  Газопровод «Северный поток» не попадет под огр...   \n",
       "9  3240       10  В результате стрельбы на юго-востоке Москвы ра...   \n",
       "\n",
       "    publication_date                                          main_text  \n",
       "0  20 мая 2020 22:06  Экс-президент Украины Петр Порошенко назвал за...  \n",
       "1  20 мая 2020 06:04  Если в одних ограничения смягчают, то в других...  \n",
       "2  20 мая 2020 22:05  Причиной стали нарушения требований профилакти...  \n",
       "3  20 мая 2020 10:34  Это сделано по случаю  мусульманского праздник...  \n",
       "4  20 мая 2020 09:32  Ранее он был демонтирован в   Праге.  Как пояс...  \n",
       "5  20 мая 2020 17:04  Соответствующий приказ регионального Минздрава...  \n",
       "6  20 мая 2020 11:32  Глава  автономии Махмуд Аббас  обвинил Иерусал...  \n",
       "7  20 мая 2020 22:02  Такие данные привели столичные власти. Речь ид...  \n",
       "8  20 мая 2020 21:05  Такое постановление приняло Федеральное сетево...  \n",
       "9  20 мая 2020 20:35  В результате стрельбы на юго-востоке Москвы ра...  "
      ]
     },
     "execution_count": 10,
     "metadata": {},
     "output_type": "execute_result"
    }
   ],
   "source": [
    "news_dataset.head(10)"
   ]
  },
  {
   "cell_type": "code",
   "execution_count": 11,
   "metadata": {},
   "outputs": [
    {
     "data": {
      "text/html": [
       "<div>\n",
       "<style scoped>\n",
       "    .dataframe tbody tr th:only-of-type {\n",
       "        vertical-align: middle;\n",
       "    }\n",
       "\n",
       "    .dataframe tbody tr th {\n",
       "        vertical-align: top;\n",
       "    }\n",
       "\n",
       "    .dataframe thead th {\n",
       "        text-align: right;\n",
       "    }\n",
       "</style>\n",
       "<table border=\"1\" class=\"dataframe\">\n",
       "  <thead>\n",
       "    <tr style=\"text-align: right;\">\n",
       "      <th></th>\n",
       "      <th>views</th>\n",
       "      <th>comments</th>\n",
       "      <th>title</th>\n",
       "      <th>publication_date</th>\n",
       "      <th>main_text</th>\n",
       "    </tr>\n",
       "  </thead>\n",
       "  <tbody>\n",
       "    <tr>\n",
       "      <td>185</td>\n",
       "      <td>2305</td>\n",
       "      <td>35</td>\n",
       "      <td>Путин поддержал идею о запуске регулярных пост...</td>\n",
       "      <td>20 мая 2020 19:31</td>\n",
       "      <td>Владимир Путин поддержал идею о запуске регуля...</td>\n",
       "    </tr>\n",
       "    <tr>\n",
       "      <td>186</td>\n",
       "      <td>454</td>\n",
       "      <td>6</td>\n",
       "      <td>Зам.министра промышленности Виктор Евтухов: Ме...</td>\n",
       "      <td>20 мая 2020 11:05</td>\n",
       "      <td>Медицинские маски будут дешеветь в аптеках,  —...</td>\n",
       "    </tr>\n",
       "    <tr>\n",
       "      <td>187</td>\n",
       "      <td>60</td>\n",
       "      <td>0</td>\n",
       "      <td>Чемпионат Коста-Рики станет первым футбольным ...</td>\n",
       "      <td>20 мая 2020 06:08</td>\n",
       "      <td>Чемпионат Коста-Рики станет первым профессиона...</td>\n",
       "    </tr>\n",
       "    <tr>\n",
       "      <td>188</td>\n",
       "      <td>320</td>\n",
       "      <td>0</td>\n",
       "      <td>Количество тестирований на коронавирус в Дагес...</td>\n",
       "      <td>20 мая 2020 00:05</td>\n",
       "      <td>Планируется, что в начале следующей недели это...</td>\n",
       "    </tr>\n",
       "    <tr>\n",
       "      <td>189</td>\n",
       "      <td>1385</td>\n",
       "      <td>1</td>\n",
       "      <td>Сестры Хачатурян, которых обвиняют в убийстве ...</td>\n",
       "      <td>20 мая 2020 10:32</td>\n",
       "      <td>Сестры Хачатурян, которых обвиняют в убийстве ...</td>\n",
       "    </tr>\n",
       "    <tr>\n",
       "      <td>190</td>\n",
       "      <td>4435</td>\n",
       "      <td>6</td>\n",
       "      <td>В Москве ежедневно госпитализируют около тысяч...</td>\n",
       "      <td>20 мая 2020 13:02</td>\n",
       "      <td>По этим показателям  столица вышла на уровень ...</td>\n",
       "    </tr>\n",
       "    <tr>\n",
       "      <td>191</td>\n",
       "      <td>710</td>\n",
       "      <td>3</td>\n",
       "      <td>Жители Москвы  могут обжаловать штрафы  за нар...</td>\n",
       "      <td>20 мая 2020 12:32</td>\n",
       "      <td>Для этого здесь запущен  специальный раздел, —...</td>\n",
       "    </tr>\n",
       "    <tr>\n",
       "      <td>192</td>\n",
       "      <td>2493</td>\n",
       "      <td>9</td>\n",
       "      <td>В Россию могут разрешить ввозить дефицитные по...</td>\n",
       "      <td>20 мая 2020 22:33</td>\n",
       "      <td>Соответствующий законопроект внесен в Госдуму....</td>\n",
       "    </tr>\n",
       "    <tr>\n",
       "      <td>193</td>\n",
       "      <td>7502</td>\n",
       "      <td>15</td>\n",
       "      <td>РБК пишет, что в Кремле хотят провести голосов...</td>\n",
       "      <td>20 мая 2020 07:31</td>\n",
       "      <td>Издание ссылается на четыре источника. Ранее о...</td>\n",
       "    </tr>\n",
       "    <tr>\n",
       "      <td>194</td>\n",
       "      <td>931</td>\n",
       "      <td>13</td>\n",
       "      <td>Совет Федерации сегодня предложит правительств...</td>\n",
       "      <td>20 мая 2020 08:06</td>\n",
       "      <td>В верхней палате парламента решили вернуться к...</td>\n",
       "    </tr>\n",
       "  </tbody>\n",
       "</table>\n",
       "</div>"
      ],
      "text/plain": [
       "    views comments                                              title  \\\n",
       "185  2305       35  Путин поддержал идею о запуске регулярных пост...   \n",
       "186   454        6  Зам.министра промышленности Виктор Евтухов: Ме...   \n",
       "187    60        0  Чемпионат Коста-Рики станет первым футбольным ...   \n",
       "188   320        0  Количество тестирований на коронавирус в Дагес...   \n",
       "189  1385        1  Сестры Хачатурян, которых обвиняют в убийстве ...   \n",
       "190  4435        6  В Москве ежедневно госпитализируют около тысяч...   \n",
       "191   710        3  Жители Москвы  могут обжаловать штрафы  за нар...   \n",
       "192  2493        9  В Россию могут разрешить ввозить дефицитные по...   \n",
       "193  7502       15  РБК пишет, что в Кремле хотят провести голосов...   \n",
       "194   931       13  Совет Федерации сегодня предложит правительств...   \n",
       "\n",
       "      publication_date                                          main_text  \n",
       "185  20 мая 2020 19:31  Владимир Путин поддержал идею о запуске регуля...  \n",
       "186  20 мая 2020 11:05  Медицинские маски будут дешеветь в аптеках,  —...  \n",
       "187  20 мая 2020 06:08  Чемпионат Коста-Рики станет первым профессиона...  \n",
       "188  20 мая 2020 00:05  Планируется, что в начале следующей недели это...  \n",
       "189  20 мая 2020 10:32  Сестры Хачатурян, которых обвиняют в убийстве ...  \n",
       "190  20 мая 2020 13:02  По этим показателям  столица вышла на уровень ...  \n",
       "191  20 мая 2020 12:32  Для этого здесь запущен  специальный раздел, —...  \n",
       "192  20 мая 2020 22:33  Соответствующий законопроект внесен в Госдуму....  \n",
       "193  20 мая 2020 07:31  Издание ссылается на четыре источника. Ранее о...  \n",
       "194  20 мая 2020 08:06  В верхней палате парламента решили вернуться к...  "
      ]
     },
     "execution_count": 11,
     "metadata": {},
     "output_type": "execute_result"
    }
   ],
   "source": [
    "news_dataset.tail(10)"
   ]
  },
  {
   "cell_type": "code",
   "execution_count": 12,
   "metadata": {},
   "outputs": [
    {
     "data": {
      "text/plain": [
       "views               0\n",
       "comments            0\n",
       "title               0\n",
       "publication_date    0\n",
       "main_text           0\n",
       "dtype: int64"
      ]
     },
     "execution_count": 12,
     "metadata": {},
     "output_type": "execute_result"
    }
   ],
   "source": [
    "news_dataset.isna().sum()"
   ]
  },
  {
   "cell_type": "code",
   "execution_count": 13,
   "metadata": {},
   "outputs": [
    {
     "data": {
      "application/vnd.jupyter.widget-view+json": {
       "model_id": "2884d703ee6c413fbb6d8b5de5994799",
       "version_major": 2,
       "version_minor": 0
      },
      "text/plain": [
       "HBox(children=(IntProgress(value=0, max=6), HTML(value='')))"
      ]
     },
     "metadata": {},
     "output_type": "display_data"
    },
    {
     "data": {
      "application/vnd.jupyter.widget-view+json": {
       "model_id": "",
       "version_major": 2,
       "version_minor": 0
      },
      "text/plain": [
       "HBox(children=(IntProgress(value=0, max=43), HTML(value='')))"
      ]
     },
     "metadata": {},
     "output_type": "display_data"
    },
    {
     "data": {
      "application/vnd.jupyter.widget-view+json": {
       "model_id": "",
       "version_major": 2,
       "version_minor": 0
      },
      "text/plain": [
       "HBox(children=(IntProgress(value=0, max=195), HTML(value='')))"
      ]
     },
     "metadata": {},
     "output_type": "display_data"
    },
    {
     "data": {
      "application/vnd.jupyter.widget-view+json": {
       "model_id": "",
       "version_major": 2,
       "version_minor": 0
      },
      "text/plain": [
       "HBox(children=(IntProgress(value=0, max=199), HTML(value='')))"
      ]
     },
     "metadata": {},
     "output_type": "display_data"
    },
    {
     "data": {
      "application/vnd.jupyter.widget-view+json": {
       "model_id": "",
       "version_major": 2,
       "version_minor": 0
      },
      "text/plain": [
       "HBox(children=(IntProgress(value=0, max=197), HTML(value='')))"
      ]
     },
     "metadata": {},
     "output_type": "display_data"
    },
    {
     "data": {
      "application/vnd.jupyter.widget-view+json": {
       "model_id": "",
       "version_major": 2,
       "version_minor": 0
      },
      "text/plain": [
       "HBox(children=(IntProgress(value=0, max=140), HTML(value='')))"
      ]
     },
     "metadata": {},
     "output_type": "display_data"
    },
    {
     "data": {
      "application/vnd.jupyter.widget-view+json": {
       "model_id": "",
       "version_major": 2,
       "version_minor": 0
      },
      "text/plain": [
       "HBox(children=(IntProgress(value=0, max=185), HTML(value='')))"
      ]
     },
     "metadata": {},
     "output_type": "display_data"
    },
    {
     "name": "stdout",
     "output_type": "stream",
     "text": [
      "\n"
     ]
    }
   ],
   "source": [
    "news_dataset = pd.DataFrame(columns=['views', 'comments', 'title', 'publication_date', 'main_text'])\n",
    "\n",
    "for page_number in tqdm_notebook(range(0, 6)):\n",
    "    news_links = get_news_links(page_number)\n",
    "    for news_link in tqdm_notebook(news_links, leave=False):\n",
    "        news_dataset = news_dataset.append(get_news_page_info(news_link), ignore_index=True)\n",
    "        time.sleep(0.3)"
   ]
  },
  {
   "cell_type": "code",
   "execution_count": 14,
   "metadata": {},
   "outputs": [
    {
     "data": {
      "text/html": [
       "<div>\n",
       "<style scoped>\n",
       "    .dataframe tbody tr th:only-of-type {\n",
       "        vertical-align: middle;\n",
       "    }\n",
       "\n",
       "    .dataframe tbody tr th {\n",
       "        vertical-align: top;\n",
       "    }\n",
       "\n",
       "    .dataframe thead th {\n",
       "        text-align: right;\n",
       "    }\n",
       "</style>\n",
       "<table border=\"1\" class=\"dataframe\">\n",
       "  <thead>\n",
       "    <tr style=\"text-align: right;\">\n",
       "      <th></th>\n",
       "      <th>views</th>\n",
       "      <th>comments</th>\n",
       "      <th>title</th>\n",
       "      <th>publication_date</th>\n",
       "      <th>main_text</th>\n",
       "    </tr>\n",
       "  </thead>\n",
       "  <tbody>\n",
       "    <tr>\n",
       "      <td>0</td>\n",
       "      <td>1080</td>\n",
       "      <td>2</td>\n",
       "      <td>Войска ливийского правительства, признанного О...</td>\n",
       "      <td>21 мая 2020 06:33</td>\n",
       "      <td>Как сообщает агентство РИА Новости со ссылкой ...</td>\n",
       "    </tr>\n",
       "    <tr>\n",
       "      <td>1</td>\n",
       "      <td>679</td>\n",
       "      <td>3</td>\n",
       "      <td>В жилых домах и социальных объектах Подмосковь...</td>\n",
       "      <td>21 мая 2020 06:37</td>\n",
       "      <td>В последние дни в Московской области, также, к...</td>\n",
       "    </tr>\n",
       "    <tr>\n",
       "      <td>2</td>\n",
       "      <td>189</td>\n",
       "      <td>1</td>\n",
       "      <td>Олимпийские игры в Токио придется полностью от...</td>\n",
       "      <td>21 мая 2020 07:31</td>\n",
       "      <td>Об этом в интервью телерадиокомпании ВВС сказа...</td>\n",
       "    </tr>\n",
       "    <tr>\n",
       "      <td>3</td>\n",
       "      <td>1775</td>\n",
       "      <td>1</td>\n",
       "      <td>В мире за последние сутки зафиксирован наиболь...</td>\n",
       "      <td>21 мая 2020 06:31</td>\n",
       "      <td>Глава Всемирной организации здравоохранения Те...</td>\n",
       "    </tr>\n",
       "    <tr>\n",
       "      <td>4</td>\n",
       "      <td>160</td>\n",
       "      <td>1</td>\n",
       "      <td>В Свердловской области губернатор пригрозил от...</td>\n",
       "      <td>21 мая 2020 06:49</td>\n",
       "      <td>По словам Евгения Куйвашева, в ходе проверки в...</td>\n",
       "    </tr>\n",
       "  </tbody>\n",
       "</table>\n",
       "</div>"
      ],
      "text/plain": [
       "  views comments                                              title  \\\n",
       "0  1080        2  Войска ливийского правительства, признанного О...   \n",
       "1   679        3  В жилых домах и социальных объектах Подмосковь...   \n",
       "2   189        1  Олимпийские игры в Токио придется полностью от...   \n",
       "3  1775        1  В мире за последние сутки зафиксирован наиболь...   \n",
       "4   160        1  В Свердловской области губернатор пригрозил от...   \n",
       "\n",
       "    publication_date                                          main_text  \n",
       "0  21 мая 2020 06:33  Как сообщает агентство РИА Новости со ссылкой ...  \n",
       "1  21 мая 2020 06:37  В последние дни в Московской области, также, к...  \n",
       "2  21 мая 2020 07:31  Об этом в интервью телерадиокомпании ВВС сказа...  \n",
       "3  21 мая 2020 06:31  Глава Всемирной организации здравоохранения Те...  \n",
       "4  21 мая 2020 06:49  По словам Евгения Куйвашева, в ходе проверки в...  "
      ]
     },
     "execution_count": 14,
     "metadata": {},
     "output_type": "execute_result"
    }
   ],
   "source": [
    "news_dataset.head()"
   ]
  },
  {
   "cell_type": "code",
   "execution_count": 15,
   "metadata": {},
   "outputs": [
    {
     "data": {
      "text/plain": [
       "views               0\n",
       "comments            0\n",
       "title               0\n",
       "publication_date    0\n",
       "main_text           0\n",
       "dtype: int64"
      ]
     },
     "execution_count": 15,
     "metadata": {},
     "output_type": "execute_result"
    }
   ],
   "source": [
    "news_dataset.isna().sum()"
   ]
  },
  {
   "cell_type": "markdown",
   "metadata": {},
   "source": [
    "Сайт неплохо парсится. У них нет автоблокировок, но в учебных целях настрою Tor.  \n",
    "А вот у сайта Риановости каждая ссылка на новую страницу новостей в ленте генерится каким-то PRBS генератором."
   ]
  },
  {
   "cell_type": "markdown",
   "metadata": {},
   "source": [
    "# 3. Using TOR "
   ]
  },
  {
   "cell_type": "markdown",
   "metadata": {},
   "source": [
    "## 3.1 Import packages"
   ]
  },
  {
   "cell_type": "code",
   "execution_count": 16,
   "metadata": {},
   "outputs": [],
   "source": [
    "import socks\n",
    "import socket\n",
    "socks.set_default_proxy(socks.SOCKS5, \"localhost\", 9150)\n",
    "socket.socket = socks.socksocket"
   ]
  },
  {
   "cell_type": "markdown",
   "metadata": {},
   "source": [
    "## 3.2 Chek IP and Chenge IP"
   ]
  },
  {
   "cell_type": "code",
   "execution_count": 17,
   "metadata": {},
   "outputs": [],
   "source": [
    "def checkIP():\n",
    "    ip = requests.get('http://checkip.dyndns.org').content\n",
    "    soup = BeautifulSoup(ip, 'html.parser')\n",
    "    print(soup.find('body').text)"
   ]
  },
  {
   "cell_type": "code",
   "execution_count": 18,
   "metadata": {},
   "outputs": [
    {
     "name": "stdout",
     "output_type": "stream",
     "text": [
      "Current IP Address: 185.220.100.244\n"
     ]
    }
   ],
   "source": [
    "checkIP()"
   ]
  },
  {
   "cell_type": "code",
   "execution_count": 19,
   "metadata": {},
   "outputs": [
    {
     "name": "stdout",
     "output_type": "stream",
     "text": [
      "Current IP Address: 185.220.100.244\n",
      "Current IP Address: 185.220.101.208\n",
      "Current IP Address: 185.220.102.6\n",
      "Current IP Address: 94.230.208.148\n",
      "Current IP Address: 46.19.141.83\n",
      "Current IP Address: 162.247.74.200\n",
      "Current IP Address: 51.38.162.232\n",
      "Current IP Address: 149.202.80.194\n",
      "Current IP Address: 23.129.64.192\n",
      "Current IP Address: 95.128.43.164\n"
     ]
    }
   ],
   "source": [
    "for i in range(10):\n",
    "    checkIP()\n",
    "    time.sleep(10)"
   ]
  },
  {
   "cell_type": "code",
   "execution_count": 20,
   "metadata": {},
   "outputs": [
    {
     "data": {
      "application/vnd.jupyter.widget-view+json": {
       "model_id": "a629e1cd8e604def955032b7ffc1b6bc",
       "version_major": 2,
       "version_minor": 0
      },
      "text/plain": [
       "HBox(children=(IntProgress(value=0, max=6), HTML(value='')))"
      ]
     },
     "metadata": {},
     "output_type": "display_data"
    },
    {
     "data": {
      "application/vnd.jupyter.widget-view+json": {
       "model_id": "",
       "version_major": 2,
       "version_minor": 0
      },
      "text/plain": [
       "HBox(children=(IntProgress(value=0, max=43), HTML(value='')))"
      ]
     },
     "metadata": {},
     "output_type": "display_data"
    },
    {
     "data": {
      "application/vnd.jupyter.widget-view+json": {
       "model_id": "",
       "version_major": 2,
       "version_minor": 0
      },
      "text/plain": [
       "HBox(children=(IntProgress(value=0, max=195), HTML(value='')))"
      ]
     },
     "metadata": {},
     "output_type": "display_data"
    },
    {
     "data": {
      "application/vnd.jupyter.widget-view+json": {
       "model_id": "",
       "version_major": 2,
       "version_minor": 0
      },
      "text/plain": [
       "HBox(children=(IntProgress(value=0, max=199), HTML(value='')))"
      ]
     },
     "metadata": {},
     "output_type": "display_data"
    },
    {
     "data": {
      "application/vnd.jupyter.widget-view+json": {
       "model_id": "",
       "version_major": 2,
       "version_minor": 0
      },
      "text/plain": [
       "HBox(children=(IntProgress(value=0, max=197), HTML(value='')))"
      ]
     },
     "metadata": {},
     "output_type": "display_data"
    },
    {
     "data": {
      "application/vnd.jupyter.widget-view+json": {
       "model_id": "",
       "version_major": 2,
       "version_minor": 0
      },
      "text/plain": [
       "HBox(children=(IntProgress(value=0, max=140), HTML(value='')))"
      ]
     },
     "metadata": {},
     "output_type": "display_data"
    },
    {
     "data": {
      "application/vnd.jupyter.widget-view+json": {
       "model_id": "",
       "version_major": 2,
       "version_minor": 0
      },
      "text/plain": [
       "HBox(children=(IntProgress(value=0, max=185), HTML(value='')))"
      ]
     },
     "metadata": {},
     "output_type": "display_data"
    },
    {
     "name": "stdout",
     "output_type": "stream",
     "text": [
      "\n"
     ]
    }
   ],
   "source": [
    "news_dataset = pd.DataFrame(columns=['views', 'comments', 'title', 'publication_date', 'main_text'])\n",
    "\n",
    "for page_number in tqdm_notebook(range(0, 6)):\n",
    "    news_links = get_news_links(page_number)\n",
    "    for news_link in tqdm_notebook(news_links, leave=False):\n",
    "        news_dataset = news_dataset.append(get_news_page_info(news_link), ignore_index=True)\n",
    "        time.sleep(0.3)"
   ]
  },
  {
   "cell_type": "markdown",
   "metadata": {},
   "source": [
    "## 3.3 Final parsing"
   ]
  },
  {
   "cell_type": "code",
   "execution_count": null,
   "metadata": {},
   "outputs": [],
   "source": [
    "final_df = pd.DataFrame(columns=['views', 'comments', 'title', 'publication_date', 'main_text'])\n",
    "\n",
    "\n",
    "for page_number in tqdm_notebook(range(0,1455)):\n",
    "    # собрали хрефы с текущей страницы\n",
    "    news_links = get_news_links(page_number)  \n",
    "    for news_links in tqdm_notebook(news_links, leave=False):\n",
    "        # иногда с первого раза страничка не парсится\n",
    "        for i in range(5):\n",
    "            try:\n",
    "                # пытаемся собрать по мему немного даты\n",
    "                data_row = get_news_page_info(news_links)           \n",
    "                # и закидываем её в таблицу\n",
    "                final_df = final_df.append(data_row, ignore_index=True)  \n",
    "                # если всё получилось - выходим из внутреннего цикла\n",
    "                break\n",
    "            except:\n",
    "                # Иначе, пробуем еще несколько раз, пока не закончатся попытки\n",
    "                continue\n",
    "                \n",
    "    final_df.to_csv('NEWS_{}.csv'.format(page_number))\n",
    "    if page_number//10:\n",
    "        print(final_df.shape)\n",
    "final_df.to_csv('NEWS_full.csv')"
   ]
  },
  {
   "cell_type": "markdown",
   "metadata": {},
   "source": [
    "Тут я задал очень большое число новостей. Скрипт успешно парсил всю ночь и отработал на 10%. Решил не парсить сайт до конца, так как это может занять несколько дней. "
   ]
  },
  {
   "cell_type": "markdown",
   "metadata": {},
   "source": [
    "# 4. Parsing results"
   ]
  },
  {
   "cell_type": "markdown",
   "metadata": {},
   "source": [
    "Всего распарсил 136 дней в новостной ленте."
   ]
  },
  {
   "cell_type": "code",
   "execution_count": 21,
   "metadata": {},
   "outputs": [],
   "source": [
    "data = pd.read_csv(\"NEWS_135.csv\")"
   ]
  },
  {
   "cell_type": "code",
   "execution_count": 22,
   "metadata": {},
   "outputs": [
    {
     "data": {
      "text/html": [
       "<div>\n",
       "<style scoped>\n",
       "    .dataframe tbody tr th:only-of-type {\n",
       "        vertical-align: middle;\n",
       "    }\n",
       "\n",
       "    .dataframe tbody tr th {\n",
       "        vertical-align: top;\n",
       "    }\n",
       "\n",
       "    .dataframe thead th {\n",
       "        text-align: right;\n",
       "    }\n",
       "</style>\n",
       "<table border=\"1\" class=\"dataframe\">\n",
       "  <thead>\n",
       "    <tr style=\"text-align: right;\">\n",
       "      <th></th>\n",
       "      <th>Unnamed: 0</th>\n",
       "      <th>views</th>\n",
       "      <th>comments</th>\n",
       "      <th>title</th>\n",
       "      <th>publication_date</th>\n",
       "      <th>main_text</th>\n",
       "    </tr>\n",
       "  </thead>\n",
       "  <tbody>\n",
       "    <tr>\n",
       "      <td>0</td>\n",
       "      <td>0</td>\n",
       "      <td>1415</td>\n",
       "      <td>8</td>\n",
       "      <td>Япония снова заявила о претензиях на Южные Курилы</td>\n",
       "      <td>19 мая 2020 12:06</td>\n",
       "      <td>В докладе главы японского МИДа острова Кунашир...</td>\n",
       "    </tr>\n",
       "    <tr>\n",
       "      <td>1</td>\n",
       "      <td>1</td>\n",
       "      <td>105</td>\n",
       "      <td>0</td>\n",
       "      <td>В Риме после карантина открываются первые музеи</td>\n",
       "      <td>19 мая 2020 06:08</td>\n",
       "      <td>Посещение будет возможно только по предварител...</td>\n",
       "    </tr>\n",
       "    <tr>\n",
       "      <td>2</td>\n",
       "      <td>2</td>\n",
       "      <td>5579</td>\n",
       "      <td>30</td>\n",
       "      <td>В Краснодарском крае сотрудников «скорой» Абин...</td>\n",
       "      <td>19 мая 2020 16:33</td>\n",
       "      <td>В Краснодарском крае сотрудников станции скоро...</td>\n",
       "    </tr>\n",
       "    <tr>\n",
       "      <td>3</td>\n",
       "      <td>3</td>\n",
       "      <td>577</td>\n",
       "      <td>4</td>\n",
       "      <td>Власти Псковской области отрицают нехватку сре...</td>\n",
       "      <td>19 мая 2020 00:08</td>\n",
       "      <td>Власти Псковской области отрицают нехватку сре...</td>\n",
       "    </tr>\n",
       "    <tr>\n",
       "      <td>4</td>\n",
       "      <td>4</td>\n",
       "      <td>3517</td>\n",
       "      <td>8</td>\n",
       "      <td>В Москве четвертый день подряд фиксируют более...</td>\n",
       "      <td>19 мая 2020 06:48</td>\n",
       "      <td>Скончался еще 71 пациент, сообщили ночью в опе...</td>\n",
       "    </tr>\n",
       "  </tbody>\n",
       "</table>\n",
       "</div>"
      ],
      "text/plain": [
       "   Unnamed: 0  views  comments  \\\n",
       "0           0   1415         8   \n",
       "1           1    105         0   \n",
       "2           2   5579        30   \n",
       "3           3    577         4   \n",
       "4           4   3517         8   \n",
       "\n",
       "                                               title   publication_date  \\\n",
       "0  Япония снова заявила о претензиях на Южные Курилы  19 мая 2020 12:06   \n",
       "1    В Риме после карантина открываются первые музеи  19 мая 2020 06:08   \n",
       "2  В Краснодарском крае сотрудников «скорой» Абин...  19 мая 2020 16:33   \n",
       "3  Власти Псковской области отрицают нехватку сре...  19 мая 2020 00:08   \n",
       "4  В Москве четвертый день подряд фиксируют более...  19 мая 2020 06:48   \n",
       "\n",
       "                                           main_text  \n",
       "0  В докладе главы японского МИДа острова Кунашир...  \n",
       "1  Посещение будет возможно только по предварител...  \n",
       "2  В Краснодарском крае сотрудников станции скоро...  \n",
       "3  Власти Псковской области отрицают нехватку сре...  \n",
       "4  Скончался еще 71 пациент, сообщили ночью в опе...  "
      ]
     },
     "execution_count": 22,
     "metadata": {},
     "output_type": "execute_result"
    }
   ],
   "source": [
    "data.head()"
   ]
  },
  {
   "cell_type": "code",
   "execution_count": 23,
   "metadata": {},
   "outputs": [
    {
     "data": {
      "text/plain": [
       "Unnamed: 0           0\n",
       "views                0\n",
       "comments             0\n",
       "title                0\n",
       "publication_date     0\n",
       "main_text           11\n",
       "dtype: int64"
      ]
     },
     "execution_count": 23,
     "metadata": {},
     "output_type": "execute_result"
    }
   ],
   "source": [
    "data.isna().sum()"
   ]
  },
  {
   "cell_type": "markdown",
   "metadata": {},
   "source": [
    "Есть новости без текста, но с заголовками."
   ]
  },
  {
   "cell_type": "code",
   "execution_count": 24,
   "metadata": {},
   "outputs": [
    {
     "data": {
      "text/plain": [
       "(25692, 6)"
      ]
     },
     "execution_count": 24,
     "metadata": {},
     "output_type": "execute_result"
    }
   ],
   "source": [
    "data.shape"
   ]
  },
  {
   "cell_type": "code",
   "execution_count": 25,
   "metadata": {},
   "outputs": [
    {
     "data": {
      "text/plain": [
       "Горздрав Екатеринбурга подало иск к «Эху Москвы в Екатеринбурге» из-за высказываний Ройзмана о коронавирусе           110\n",
       "«Медиазона»: В России от коронавируса умерли не меньше 186 медиков                                                    110\n",
       "Министр труда и соцзащиты заявил, что семьи с двумя детьми могут получить суммарно более 100 тысяч рублей              98\n",
       "В Краснодарском крае сотрудников «скорой» Абинской больницы вызвали в полицию после их жалобы на отсутствие выплат     85\n",
       "Совет Федерации предлагает ограничить продажу табака и алкоголя                                                        30\n",
       "                                                                                                                     ... \n",
       "Путин потребовал выплатить всем медработникам до 15 мая надбавки к зарплате за работу с заболевшими коронавирусом       1\n",
       "Социальные фонды из-за распространения эпидемии могут потерять более 2 триллионов рублей                                1\n",
       "В Россию с сегодняшнего дня запрещён ввоз некоторых морепродуктов и рыбы из Китая                                       1\n",
       "Регионы получили установку не занижать статистику заражения коронавирусом                                               1\n",
       "По факту пожара в московском доме престарелых возбуждено уголовное дело                                                 1\n",
       "Name: title, Length: 24458, dtype: int64"
      ]
     },
     "execution_count": 25,
     "metadata": {},
     "output_type": "execute_result"
    }
   ],
   "source": [
    "data['title'].value_counts()"
   ]
  },
  {
   "cell_type": "markdown",
   "metadata": {},
   "source": [
    "  \n",
    "  \n",
    "**Пока я парсил, страницы обновляись, и поэтому значения заголовка повторяются.**"
   ]
  },
  {
   "cell_type": "code",
   "execution_count": 26,
   "metadata": {},
   "outputs": [],
   "source": [
    "data=data.drop_duplicates(keep='last', subset='title')"
   ]
  },
  {
   "cell_type": "markdown",
   "metadata": {},
   "source": [
    "Дропнул все строки с повторяющимися заголовками."
   ]
  },
  {
   "cell_type": "code",
   "execution_count": 27,
   "metadata": {},
   "outputs": [
    {
     "data": {
      "text/plain": [
       "(24458, 6)"
      ]
     },
     "execution_count": 27,
     "metadata": {},
     "output_type": "execute_result"
    }
   ],
   "source": [
    "data.shape"
   ]
  },
  {
   "cell_type": "markdown",
   "metadata": {},
   "source": [
    "Стало новостей поменьше."
   ]
  },
  {
   "cell_type": "code",
   "execution_count": 28,
   "metadata": {},
   "outputs": [
    {
     "data": {
      "text/html": [
       "<div>\n",
       "<style scoped>\n",
       "    .dataframe tbody tr th:only-of-type {\n",
       "        vertical-align: middle;\n",
       "    }\n",
       "\n",
       "    .dataframe tbody tr th {\n",
       "        vertical-align: top;\n",
       "    }\n",
       "\n",
       "    .dataframe thead th {\n",
       "        text-align: right;\n",
       "    }\n",
       "</style>\n",
       "<table border=\"1\" class=\"dataframe\">\n",
       "  <thead>\n",
       "    <tr style=\"text-align: right;\">\n",
       "      <th></th>\n",
       "      <th>Unnamed: 0</th>\n",
       "      <th>views</th>\n",
       "      <th>comments</th>\n",
       "      <th>title</th>\n",
       "      <th>publication_date</th>\n",
       "      <th>main_text</th>\n",
       "    </tr>\n",
       "  </thead>\n",
       "  <tbody>\n",
       "    <tr>\n",
       "      <td>0</td>\n",
       "      <td>0</td>\n",
       "      <td>1415</td>\n",
       "      <td>8</td>\n",
       "      <td>Япония снова заявила о претензиях на Южные Курилы</td>\n",
       "      <td>19 мая 2020 12:06</td>\n",
       "      <td>В докладе главы японского МИДа острова Кунашир...</td>\n",
       "    </tr>\n",
       "    <tr>\n",
       "      <td>1</td>\n",
       "      <td>1</td>\n",
       "      <td>105</td>\n",
       "      <td>0</td>\n",
       "      <td>В Риме после карантина открываются первые музеи</td>\n",
       "      <td>19 мая 2020 06:08</td>\n",
       "      <td>Посещение будет возможно только по предварител...</td>\n",
       "    </tr>\n",
       "    <tr>\n",
       "      <td>3</td>\n",
       "      <td>3</td>\n",
       "      <td>577</td>\n",
       "      <td>4</td>\n",
       "      <td>Власти Псковской области отрицают нехватку сре...</td>\n",
       "      <td>19 мая 2020 00:08</td>\n",
       "      <td>Власти Псковской области отрицают нехватку сре...</td>\n",
       "    </tr>\n",
       "    <tr>\n",
       "      <td>4</td>\n",
       "      <td>4</td>\n",
       "      <td>3517</td>\n",
       "      <td>8</td>\n",
       "      <td>В Москве четвертый день подряд фиксируют более...</td>\n",
       "      <td>19 мая 2020 06:48</td>\n",
       "      <td>Скончался еще 71 пациент, сообщили ночью в опе...</td>\n",
       "    </tr>\n",
       "    <tr>\n",
       "      <td>5</td>\n",
       "      <td>5</td>\n",
       "      <td>3897</td>\n",
       "      <td>21</td>\n",
       "      <td>На Украине разразился скандал после интервью ж...</td>\n",
       "      <td>19 мая 2020 18:27</td>\n",
       "      <td>С ним поговорил Дмитрий Гордон. Интервью возму...</td>\n",
       "    </tr>\n",
       "    <tr>\n",
       "      <td>6</td>\n",
       "      <td>6</td>\n",
       "      <td>1191</td>\n",
       "      <td>1</td>\n",
       "      <td>В России возбуждено первое уголовное дело из-з...</td>\n",
       "      <td>19 мая 2020 20:01</td>\n",
       "      <td>Его завели на Кубани  после видеообращения сот...</td>\n",
       "    </tr>\n",
       "    <tr>\n",
       "      <td>7</td>\n",
       "      <td>7</td>\n",
       "      <td>973</td>\n",
       "      <td>6</td>\n",
       "      <td>В Подмосковье совершил жесткую посадку военный...</td>\n",
       "      <td>19 мая 2020 22:05</td>\n",
       "      <td>Вертолет Ми-8 ВКС России совершил жесткую поса...</td>\n",
       "    </tr>\n",
       "    <tr>\n",
       "      <td>8</td>\n",
       "      <td>8</td>\n",
       "      <td>2469</td>\n",
       "      <td>0</td>\n",
       "      <td>Следственный комитет   проводит проверку  по ф...</td>\n",
       "      <td>19 мая 2020 20:04</td>\n",
       "      <td>Там в результате  взрыва  воспламеняющейся жид...</td>\n",
       "    </tr>\n",
       "    <tr>\n",
       "      <td>9</td>\n",
       "      <td>9</td>\n",
       "      <td>704</td>\n",
       "      <td>16</td>\n",
       "      <td>Глава Роснано Анатолий Чубайс считает зависимо...</td>\n",
       "      <td>19 мая 2020 13:04</td>\n",
       "      <td>Государственный чиновник напомнил о том, что н...</td>\n",
       "    </tr>\n",
       "    <tr>\n",
       "      <td>10</td>\n",
       "      <td>10</td>\n",
       "      <td>209</td>\n",
       "      <td>3</td>\n",
       "      <td>Премьер-министр Михаил Мишустин завершил лечен...</td>\n",
       "      <td>19 мая 2020 14:09</td>\n",
       "      <td>Премьер-министр Михаил Мишустин завершил лечен...</td>\n",
       "    </tr>\n",
       "  </tbody>\n",
       "</table>\n",
       "</div>"
      ],
      "text/plain": [
       "    Unnamed: 0  views  comments  \\\n",
       "0            0   1415         8   \n",
       "1            1    105         0   \n",
       "3            3    577         4   \n",
       "4            4   3517         8   \n",
       "5            5   3897        21   \n",
       "6            6   1191         1   \n",
       "7            7    973         6   \n",
       "8            8   2469         0   \n",
       "9            9    704        16   \n",
       "10          10    209         3   \n",
       "\n",
       "                                                title   publication_date  \\\n",
       "0   Япония снова заявила о претензиях на Южные Курилы  19 мая 2020 12:06   \n",
       "1     В Риме после карантина открываются первые музеи  19 мая 2020 06:08   \n",
       "3   Власти Псковской области отрицают нехватку сре...  19 мая 2020 00:08   \n",
       "4   В Москве четвертый день подряд фиксируют более...  19 мая 2020 06:48   \n",
       "5   На Украине разразился скандал после интервью ж...  19 мая 2020 18:27   \n",
       "6   В России возбуждено первое уголовное дело из-з...  19 мая 2020 20:01   \n",
       "7   В Подмосковье совершил жесткую посадку военный...  19 мая 2020 22:05   \n",
       "8   Следственный комитет   проводит проверку  по ф...  19 мая 2020 20:04   \n",
       "9   Глава Роснано Анатолий Чубайс считает зависимо...  19 мая 2020 13:04   \n",
       "10  Премьер-министр Михаил Мишустин завершил лечен...  19 мая 2020 14:09   \n",
       "\n",
       "                                            main_text  \n",
       "0   В докладе главы японского МИДа острова Кунашир...  \n",
       "1   Посещение будет возможно только по предварител...  \n",
       "3   Власти Псковской области отрицают нехватку сре...  \n",
       "4   Скончался еще 71 пациент, сообщили ночью в опе...  \n",
       "5   С ним поговорил Дмитрий Гордон. Интервью возму...  \n",
       "6   Его завели на Кубани  после видеообращения сот...  \n",
       "7   Вертолет Ми-8 ВКС России совершил жесткую поса...  \n",
       "8   Там в результате  взрыва  воспламеняющейся жид...  \n",
       "9   Государственный чиновник напомнил о том, что н...  \n",
       "10  Премьер-министр Михаил Мишустин завершил лечен...  "
      ]
     },
     "execution_count": 28,
     "metadata": {},
     "output_type": "execute_result"
    }
   ],
   "source": [
    "data.head(10)"
   ]
  },
  {
   "cell_type": "code",
   "execution_count": 29,
   "metadata": {},
   "outputs": [
    {
     "data": {
      "text/html": [
       "<div>\n",
       "<style scoped>\n",
       "    .dataframe tbody tr th:only-of-type {\n",
       "        vertical-align: middle;\n",
       "    }\n",
       "\n",
       "    .dataframe tbody tr th {\n",
       "        vertical-align: top;\n",
       "    }\n",
       "\n",
       "    .dataframe thead th {\n",
       "        text-align: right;\n",
       "    }\n",
       "</style>\n",
       "<table border=\"1\" class=\"dataframe\">\n",
       "  <thead>\n",
       "    <tr style=\"text-align: right;\">\n",
       "      <th></th>\n",
       "      <th>Unnamed: 0</th>\n",
       "      <th>views</th>\n",
       "      <th>comments</th>\n",
       "      <th>title</th>\n",
       "      <th>publication_date</th>\n",
       "      <th>main_text</th>\n",
       "    </tr>\n",
       "  </thead>\n",
       "  <tbody>\n",
       "    <tr>\n",
       "      <td>25682</td>\n",
       "      <td>25682</td>\n",
       "      <td>1138</td>\n",
       "      <td>15</td>\n",
       "      <td>Столтенберг: Новый конфликт на Ближнем Востоке...</td>\n",
       "      <td>06 января 2020 20:30</td>\n",
       "      <td>Новый конфликт на Ближнем Востоке никому не вы...</td>\n",
       "    </tr>\n",
       "    <tr>\n",
       "      <td>25683</td>\n",
       "      <td>25683</td>\n",
       "      <td>3338</td>\n",
       "      <td>4</td>\n",
       "      <td>Убитый в Подмосковье Сергей Хайкин работал в Н...</td>\n",
       "      <td>06 января 2020 17:31</td>\n",
       "      <td>К самой госкорпорации он отношения не имел. Об...</td>\n",
       "    </tr>\n",
       "    <tr>\n",
       "      <td>25684</td>\n",
       "      <td>25684</td>\n",
       "      <td>794</td>\n",
       "      <td>1</td>\n",
       "      <td>Борьба за пост спикера оппозиционной Националь...</td>\n",
       "      <td>06 января 2020 02:03</td>\n",
       "      <td>Часть депутатов избрали в качестве нового пред...</td>\n",
       "    </tr>\n",
       "    <tr>\n",
       "      <td>25685</td>\n",
       "      <td>25685</td>\n",
       "      <td>1235</td>\n",
       "      <td>9</td>\n",
       "      <td>Цены на нефть на фоне обострения на Ближнем Во...</td>\n",
       "      <td>06 января 2020 19:00</td>\n",
       "      <td>Нефть марки Brent сегодня торговалась в Лондон...</td>\n",
       "    </tr>\n",
       "    <tr>\n",
       "      <td>25686</td>\n",
       "      <td>25686</td>\n",
       "      <td>601</td>\n",
       "      <td>7</td>\n",
       "      <td>ЕС   будет  принимать  решение о возможных сан...</td>\n",
       "      <td>06 января 2020 16:31</td>\n",
       "      <td>Об этом заявил официальный представитель внешн...</td>\n",
       "    </tr>\n",
       "    <tr>\n",
       "      <td>25687</td>\n",
       "      <td>25687</td>\n",
       "      <td>1677</td>\n",
       "      <td>25</td>\n",
       "      <td>Израильские власти утвердили планы строительст...</td>\n",
       "      <td>06 января 2020 23:00</td>\n",
       "      <td>Израильские власти утвердили планы строительст...</td>\n",
       "    </tr>\n",
       "    <tr>\n",
       "      <td>25688</td>\n",
       "      <td>25688</td>\n",
       "      <td>4460</td>\n",
       "      <td>27</td>\n",
       "      <td>Дональд Трамп пригрозил Ираку санкциями, если ...</td>\n",
       "      <td>06 января 2020 10:00</td>\n",
       "      <td>Резкую реакцию американского лидера вызвало ре...</td>\n",
       "    </tr>\n",
       "    <tr>\n",
       "      <td>25689</td>\n",
       "      <td>25689</td>\n",
       "      <td>1584</td>\n",
       "      <td>0</td>\n",
       "      <td>Картина Сэма Мендеса «1917» получила «Золотой ...</td>\n",
       "      <td>06 января 2020 13:30</td>\n",
       "      <td>Картина Сэма Мендеса «1917» получила «Золотой ...</td>\n",
       "    </tr>\n",
       "    <tr>\n",
       "      <td>25690</td>\n",
       "      <td>25690</td>\n",
       "      <td>3435</td>\n",
       "      <td>11</td>\n",
       "      <td>В Подмосковье обнаружили мертвыми сотрудника «...</td>\n",
       "      <td>06 января 2020 16:01</td>\n",
       "      <td>Следственный комитет возбудил дело по статье «...</td>\n",
       "    </tr>\n",
       "    <tr>\n",
       "      <td>25691</td>\n",
       "      <td>25691</td>\n",
       "      <td>315</td>\n",
       "      <td>0</td>\n",
       "      <td>Полиция в Ростове-на-Дону задержала подозревае...</td>\n",
       "      <td>06 января 2020 02:03</td>\n",
       "      <td>При нем обнаружили средства самообороны, говор...</td>\n",
       "    </tr>\n",
       "  </tbody>\n",
       "</table>\n",
       "</div>"
      ],
      "text/plain": [
       "       Unnamed: 0  views  comments  \\\n",
       "25682       25682   1138        15   \n",
       "25683       25683   3338         4   \n",
       "25684       25684    794         1   \n",
       "25685       25685   1235         9   \n",
       "25686       25686    601         7   \n",
       "25687       25687   1677        25   \n",
       "25688       25688   4460        27   \n",
       "25689       25689   1584         0   \n",
       "25690       25690   3435        11   \n",
       "25691       25691    315         0   \n",
       "\n",
       "                                                   title  \\\n",
       "25682  Столтенберг: Новый конфликт на Ближнем Востоке...   \n",
       "25683  Убитый в Подмосковье Сергей Хайкин работал в Н...   \n",
       "25684  Борьба за пост спикера оппозиционной Националь...   \n",
       "25685  Цены на нефть на фоне обострения на Ближнем Во...   \n",
       "25686  ЕС   будет  принимать  решение о возможных сан...   \n",
       "25687  Израильские власти утвердили планы строительст...   \n",
       "25688  Дональд Трамп пригрозил Ираку санкциями, если ...   \n",
       "25689  Картина Сэма Мендеса «1917» получила «Золотой ...   \n",
       "25690  В Подмосковье обнаружили мертвыми сотрудника «...   \n",
       "25691  Полиция в Ростове-на-Дону задержала подозревае...   \n",
       "\n",
       "           publication_date                                          main_text  \n",
       "25682  06 января 2020 20:30  Новый конфликт на Ближнем Востоке никому не вы...  \n",
       "25683  06 января 2020 17:31  К самой госкорпорации он отношения не имел. Об...  \n",
       "25684  06 января 2020 02:03  Часть депутатов избрали в качестве нового пред...  \n",
       "25685  06 января 2020 19:00  Нефть марки Brent сегодня торговалась в Лондон...  \n",
       "25686  06 января 2020 16:31  Об этом заявил официальный представитель внешн...  \n",
       "25687  06 января 2020 23:00  Израильские власти утвердили планы строительст...  \n",
       "25688  06 января 2020 10:00  Резкую реакцию американского лидера вызвало ре...  \n",
       "25689  06 января 2020 13:30  Картина Сэма Мендеса «1917» получила «Золотой ...  \n",
       "25690  06 января 2020 16:01  Следственный комитет возбудил дело по статье «...  \n",
       "25691  06 января 2020 02:03  При нем обнаружили средства самообороны, говор...  "
      ]
     },
     "execution_count": 29,
     "metadata": {},
     "output_type": "execute_result"
    }
   ],
   "source": [
    "data.tail(10)"
   ]
  }
 ],
 "metadata": {
  "kernelspec": {
   "display_name": "Python 3",
   "language": "python",
   "name": "python3"
  },
  "language_info": {
   "codemirror_mode": {
    "name": "ipython",
    "version": 3
   },
   "file_extension": ".py",
   "mimetype": "text/x-python",
   "name": "python",
   "nbconvert_exporter": "python",
   "pygments_lexer": "ipython3",
   "version": "3.7.4"
  }
 },
 "nbformat": 4,
 "nbformat_minor": 4
}
